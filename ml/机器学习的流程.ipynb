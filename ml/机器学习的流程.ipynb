{
 "cells": [
  {
   "cell_type": "markdown",
   "metadata": {},
   "source": [
    "# 问题定义\n",
    "1. 明确系统要解决的问题\n",
    "2. 明确训练监督类型：监督学习、无监督学习、半监督学习、自监督学习、强化学习。\n",
    "3. 确定性能指标\n",
    "   1. 平均方根误差(RMSE) - L2范数(欧几里德的范数)\n",
    "   2. 平均绝对误差(MAE) - L1范数(曼哈顿范数)\n",
    "\n",
    "# 准备数据\n",
    "## 收集数据\n",
    "根据要解决的问题，收集整理线性的数据\n",
    "## 数据洞察\n",
    "了解数据结构、类型和分布情况"
   ]
  },
  {
   "cell_type": "code",
   "execution_count": null,
   "metadata": {},
   "outputs": [],
   "source": [
    "import pandas as pd\n",
    "from sklearn.model_selection import train_test_split\n",
    "from sklearn.impute import SimpleImputer\n",
    "from sklearn.pipeline import Pipeline\n",
    "from sklearn.preprocessing import StandardScaler\n",
    "from sklearn.preprocessing import OneHotEncoder\n",
    "from sklearn.compose import ColumnTransformer\n",
    "\n",
    "HOUSING_DATA_SET = \"./datasets/housing/housing.csv\"\n",
    "\n",
    "housing = pd.read_csv(HOUSING_DATA_SET)\n",
    "housing.info()\n",
    "housing.describe()\n",
    "housing.hist(bins=50, figsize=(12,8))"
   ]
  },
  {
   "cell_type": "markdown",
   "metadata": {},
   "source": [
    "# 划分测试集\n",
    "需要提前划出数据的验证集(测试集)，防止出现数据窥探偏误(data snooping bias)\n",
    "> 大脑是一个惊人的模式检测系统，这也意味着它极易过拟合：如果你查看测试集，你可能会偶然发现测试数据中一些看似有趣的模式，从而引导你选择一种特殊的机器学习模型。当你使用测试集估计泛化误差时，你的估计会过于乐观，并且你将启动一个性能不如预期的系统。这称为数据窥探偏差。\n",
    "划分数据集是抽样过程，需要尽可能反应总体样本的分布情况。\n",
    "\n",
    "## 随机抽样\n",
    "抽样的数据集合足够大(相较于属性的数量)\n",
    "**随机产生测试集**\n",
    "\n",
    "    简单能工作，但是由于完全随机，每次产生的测试集都不同，理论上执行几次之后测试集所有内容会全部都出现在了训练集中\n",
    "**采用唯一标识分割测试集**\n",
    "\n",
    "    需要数据有唯一标识，慎用行索引(需要考虑中间插入/删除数据情况)\n",
    "## 分层抽样\n",
    "按照一个或多个属性的分布情况进行抽样，确保产生的测试集和完整集合在这些属性的分布上接近。\n"
   ]
  },
  {
   "cell_type": "code",
   "execution_count": 2,
   "metadata": {},
   "outputs": [],
   "source": [
    "\n",
    "\n",
    "# 拆分数据集\n",
    "train_set, test_set = train_test_split(housing, test_size=0.2, random_state=42)\n",
    "\n",
    "# 准备训练数据\n",
    "\n",
    "# 拆分数据和标签, 为什么要分割？如何关联起来？\n",
    "train_set_data = train_set.drop(\"median_house_value\", axis=1)\n",
    "train_set_label = train_set[\"median_house_value\"].copy()\n",
    "\n",
    "\n",
    "\n"
   ]
  },
  {
   "cell_type": "markdown",
   "metadata": {},
   "source": [
    "# 准备训练集\n",
    "做数据清理，处理文本和分类属性，处理特定的转换操作，特征缩放(归一化)"
   ]
  },
  {
   "cell_type": "code",
   "execution_count": null,
   "metadata": {},
   "outputs": [],
   "source": [
    "\n",
    "\n",
    "# 处理空数据\n",
    "train_set_data_num = train_set_data.drop(\"ocean_proximity\", axis=1)\n",
    "\n",
    "num_attrs = list(train_set_data_num)\n",
    "print(num_attrs)\n",
    "cat_attrs = [\"ocean_proximity\"]\n",
    "\n",
    "num_pipline = Pipeline([\n",
    "    ('imputer', SimpleImputer(strategy=\"median\")),\n",
    "    ('std_scaler', StandardScaler())\n",
    "])\n",
    "\n",
    "full_pipline = ColumnTransformer([\n",
    "    (\"num\", num_pipline, num_attrs),\n",
    "    (\"cat\", OneHotEncoder(), cat_attrs),\n",
    "])\n",
    "train_set_data_prepared = full_pipline.fit_transform(train_set_data)"
   ]
  },
  {
   "cell_type": "markdown",
   "metadata": {},
   "source": [
    "# 模型训练和评估"
   ]
  },
  {
   "cell_type": "code",
   "execution_count": null,
   "metadata": {},
   "outputs": [],
   "source": [
    "from sklearn.linear_model import LinearRegression\n",
    "\n",
    "lin_reg = LinearRegression()\n",
    "lin_reg.fit(train_set_data_prepared, train_set_label)\n",
    "\n",
    "some_data = train_set_data.iloc[:5]\n",
    "some_labels = train_set_label.iloc[:5]\n",
    "some_data_prepared = full_pipline.transform(some_data)\n",
    "print(\"Predctions:\", lin_reg.predict(some_data_prepared))\n",
    "print(\"Labels:\", list(some_labels))"
   ]
  }
 ],
 "metadata": {
  "kernelspec": {
   "display_name": "Python 3",
   "language": "python",
   "name": "python3"
  },
  "language_info": {
   "codemirror_mode": {
    "name": "ipython",
    "version": 3
   },
   "file_extension": ".py",
   "mimetype": "text/x-python",
   "name": "python",
   "nbconvert_exporter": "python",
   "pygments_lexer": "ipython3",
   "version": "3.12.4"
  }
 },
 "nbformat": 4,
 "nbformat_minor": 2
}
